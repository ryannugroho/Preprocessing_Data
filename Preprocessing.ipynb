{
  "nbformat": 4,
  "nbformat_minor": 0,
  "metadata": {
    "colab": {
      "provenance": [],
      "authorship_tag": "ABX9TyN0yVgo8opsmsL71kbwFU5+",
      "include_colab_link": true
    },
    "kernelspec": {
      "name": "python3",
      "display_name": "Python 3"
    },
    "language_info": {
      "name": "python"
    }
  },
  "cells": [
    {
      "cell_type": "markdown",
      "metadata": {
        "id": "view-in-github",
        "colab_type": "text"
      },
      "source": [
        "<a href=\"https://colab.research.google.com/github/ryannugroho/Preprocessing_Data/blob/main/Preprocessing.ipynb\" target=\"_parent\"><img src=\"https://colab.research.google.com/assets/colab-badge.svg\" alt=\"Open In Colab\"/></a>"
      ]
    },
    {
      "cell_type": "code",
      "execution_count": null,
      "metadata": {
        "id": "__Mo3nfkgmfm"
      },
      "outputs": [],
      "source": [
        "import numpy as np\n",
        "import matplotlib.pyplot as plt\n",
        "import pandas as pd"
      ]
    },
    {
      "cell_type": "code",
      "source": [
        "dataset = pd.read_csv('Tomato.csv')\n",
        "x = dataset.iloc[:, :-1].values\n",
        "y = dataset.iloc[:, -1].values"
      ],
      "metadata": {
        "id": "-Ga2ckGDhHFh"
      },
      "execution_count": 39,
      "outputs": []
    },
    {
      "cell_type": "code",
      "source": [
        "print(str(x)+\"\\n\")\n",
        "print(y)"
      ],
      "metadata": {
        "colab": {
          "base_uri": "https://localhost:8080/"
        },
        "id": "oTon15JehQ2o",
        "outputId": "9ba2a025-18b9-4db4-bc40-137a38ec31f8"
      },
      "execution_count": 40,
      "outputs": [
        {
          "output_type": "stream",
          "name": "stdout",
          "text": [
            "[['2013-06-16' 'Kg' 26 32 29.0]\n",
            " ['2013-06-17' 'Kg' 20 25 22.5]\n",
            " ['2013-06-18' 'Kg' 22 26 24.0]\n",
            " ...\n",
            " ['2021-05-11' 'Kg' 10 15 12.5]\n",
            " ['2021-05-12' 'Kg' 30 35 32.5]\n",
            " ['2021-05-13' 'Kg' 35 40 37.5]]\n",
            "\n",
            "['Tomato' 'Tomato' 'Tomato' ... 'Tomato' 'Tomato' 'Tomato']\n"
          ]
        }
      ]
    },
    {
      "cell_type": "code",
      "source": [
        "from sklearn.impute import SimpleImputer\n",
        "imputer = SimpleImputer (missing_values=np.nan, strategy='mean')\n",
        "imputer.fit(x[:, 2:5])\n",
        "x[:, 2:5] = imputer.transform(x[:, 2:5])"
      ],
      "metadata": {
        "id": "3KQ9RRq2hUw6"
      },
      "execution_count": 43,
      "outputs": []
    },
    {
      "cell_type": "code",
      "source": [
        "print(x)"
      ],
      "metadata": {
        "colab": {
          "base_uri": "https://localhost:8080/"
        },
        "id": "kcSIH6o9hdT9",
        "outputId": "29f449ce-c2f2-490b-8dc4-a4b7e700c685"
      },
      "execution_count": 42,
      "outputs": [
        {
          "output_type": "stream",
          "name": "stdout",
          "text": [
            "[['2013-06-16' 'Kg' 26 32 29.0]\n",
            " ['2013-06-17' 'Kg' 20 25 22.5]\n",
            " ['2013-06-18' 'Kg' 22 26 24.0]\n",
            " ...\n",
            " ['2021-05-11' 'Kg' 10 15 12.5]\n",
            " ['2021-05-12' 'Kg' 30 35 32.5]\n",
            " ['2021-05-13' 'Kg' 35 40 37.5]]\n"
          ]
        }
      ]
    },
    {
      "cell_type": "code",
      "source": [
        "from sklearn.compose import ColumnTransformer\n",
        "from sklearn.preprocessing import OneHotEncoder\n",
        "ct = ColumnTransformer (transformers=[ ('encoder' , OneHotEncoder(sparse_output=False), [0])], remainder='passthrough')\n",
        "X = np.array(ct.fit_transform(x))"
      ],
      "metadata": {
        "id": "mAXKo-LxhmZa"
      },
      "execution_count": 44,
      "outputs": []
    },
    {
      "cell_type": "code",
      "source": [
        "print(X)"
      ],
      "metadata": {
        "colab": {
          "base_uri": "https://localhost:8080/"
        },
        "id": "ON0VgXASip-s",
        "outputId": "77e22a29-8e69-4edf-a4bf-1353c9797562"
      },
      "execution_count": 45,
      "outputs": [
        {
          "output_type": "stream",
          "name": "stdout",
          "text": [
            "[[1.0 0.0 0.0 ... 26.0 32.0 29.0]\n",
            " [0.0 1.0 0.0 ... 20.0 25.0 22.5]\n",
            " [0.0 0.0 1.0 ... 22.0 26.0 24.0]\n",
            " ...\n",
            " [0.0 0.0 0.0 ... 10.0 15.0 12.5]\n",
            " [0.0 0.0 0.0 ... 30.0 35.0 32.5]\n",
            " [0.0 0.0 0.0 ... 35.0 40.0 37.5]]\n"
          ]
        }
      ]
    },
    {
      "cell_type": "code",
      "source": [
        "from sklearn.preprocessing import LabelEncoder\n",
        "le = LabelEncoder()\n",
        "y = le.fit_transform(y)"
      ],
      "metadata": {
        "id": "BNwvQR3Mi0-o"
      },
      "execution_count": 46,
      "outputs": []
    },
    {
      "cell_type": "code",
      "source": [
        "print(y)"
      ],
      "metadata": {
        "colab": {
          "base_uri": "https://localhost:8080/"
        },
        "id": "1BmtYblQi4Z6",
        "outputId": "72704831-c4c2-455c-99c7-54d94ceb2520"
      },
      "execution_count": 47,
      "outputs": [
        {
          "output_type": "stream",
          "name": "stdout",
          "text": [
            "[0 0 0 ... 0 0 0]\n"
          ]
        }
      ]
    },
    {
      "cell_type": "code",
      "source": [
        "from sklearn.model_selection import train_test_split\n",
        "X_train, X_test, y_train, y_test = train_test_split(X, y, test_size = 0.2, random_state = 1)"
      ],
      "metadata": {
        "id": "Z3nnVwtHi6De"
      },
      "execution_count": 48,
      "outputs": []
    },
    {
      "cell_type": "code",
      "source": [
        "print(X_train)"
      ],
      "metadata": {
        "colab": {
          "base_uri": "https://localhost:8080/"
        },
        "id": "KaLCR3BMi-Dj",
        "outputId": "f5711048-093a-476a-dcaf-abda5cab23a6"
      },
      "execution_count": 49,
      "outputs": [
        {
          "output_type": "stream",
          "name": "stdout",
          "text": [
            "[[0.0 0.0 0.0 ... 20.0 25.0 22.5]\n",
            " [0.0 0.0 0.0 ... 24.0 30.0 27.0]\n",
            " [0.0 0.0 0.0 ... 55.0 65.0 60.0]\n",
            " ...\n",
            " [0.0 0.0 0.0 ... 65.0 75.0 70.0]\n",
            " [0.0 0.0 0.0 ... 40.0 45.0 42.5]\n",
            " [0.0 0.0 0.0 ... 45.0 55.0 50.0]]\n"
          ]
        }
      ]
    },
    {
      "cell_type": "code",
      "source": [
        "print(X_test)"
      ],
      "metadata": {
        "colab": {
          "base_uri": "https://localhost:8080/"
        },
        "id": "qF9rk_yqjOfS",
        "outputId": "9445b0f1-469d-4801-fbaa-3c31b474cfc5"
      },
      "execution_count": 50,
      "outputs": [
        {
          "output_type": "stream",
          "name": "stdout",
          "text": [
            "[[0.0 0.0 0.0 ... 50.0 55.0 52.5]\n",
            " [0.0 0.0 0.0 ... 80.0 85.0 82.5]\n",
            " [0.0 0.0 0.0 ... 35.0 40.0 37.5]\n",
            " ...\n",
            " [0.0 0.0 0.0 ... 52.0 58.0 55.0]\n",
            " [0.0 0.0 0.0 ... 55.0 65.0 60.0]\n",
            " [0.0 0.0 0.0 ... 30.0 35.0 32.5]]\n"
          ]
        }
      ]
    },
    {
      "cell_type": "code",
      "source": [
        "print(y_train)"
      ],
      "metadata": {
        "colab": {
          "base_uri": "https://localhost:8080/"
        },
        "id": "ZLrfJ04cjUUe",
        "outputId": "2f46efb3-be18-4bd2-8992-2942759e62cd"
      },
      "execution_count": 51,
      "outputs": [
        {
          "output_type": "stream",
          "name": "stdout",
          "text": [
            "[0 0 0 ... 0 0 0]\n"
          ]
        }
      ]
    },
    {
      "cell_type": "code",
      "source": [
        "print(y_test)"
      ],
      "metadata": {
        "colab": {
          "base_uri": "https://localhost:8080/"
        },
        "id": "ZeFFcBtZjaEB",
        "outputId": "959b2029-bf0a-42f7-f173-8354558d2da5"
      },
      "execution_count": 52,
      "outputs": [
        {
          "output_type": "stream",
          "name": "stdout",
          "text": [
            "[0 0 0 0 0 0 0 0 0 0 0 0 0 0 0 0 0 0 0 0 0 0 0 0 0 0 0 0 0 0 0 0 0 0 0 0 0\n",
            " 0 0 0 0 0 0 0 0 0 0 0 0 0 0 0 0 0 0 0 0 0 0 0 0 0 0 0 0 0 0 0 0 0 0 0 0 0\n",
            " 0 0 0 0 0 0 0 0 0 0 0 0 0 0 0 0 0 0 0 0 0 0 0 0 0 0 0 0 0 0 0 0 0 0 0 0 0\n",
            " 0 0 0 0 0 0 0 0 0 0 0 0 0 0 0 0 0 0 0 0 0 0 0 0 0 0 0 0 0 0 0 0 0 0 0 0 0\n",
            " 0 0 0 0 0 0 0 0 0 0 0 0 0 0 0 0 0 0 0 0 0 0 0 0 0 0 0 0 0 0 0 0 0 0 0 0 0\n",
            " 0 0 0 0 0 0 0 0 0 0 0 0 0 0 0 0 0 0 0 0 0 0 0 0 0 0 0 0 0 0 0 0 0 0 0 0 0\n",
            " 0 0 0 0 0 0 0 0 0 0 0 0 0 0 0 0 0 0 0 0 0 0 0 0 0 0 0 0 0 0 0 0 0 0 0 0 0\n",
            " 0 0 0 0 0 0 0 0 0 0 0 0 0 0 0 0 0 0 0 0 0 0 0 0 0 0 0 0 0 0 0 0 0 0 0 0 0\n",
            " 0 0 0 0 0 0 0 0 0 0 0 0 0 0 0 0 0 0 0 0 0 0 0 0 0 0 0 0 0 0 0 0 0 0 0 0 0\n",
            " 0 0 0 0 0 0 0 0 0 0 0 0 0 0 0 0 0 0 0 0 0 0 0 0 0 0 0 0 0 0 0 0 0 0 0 0 0\n",
            " 0 0 0 0 0 0 0 0 0 0 0 0 0 0 0 0 0 0 0 0 0 0 0 0 0 0 0 0 0 0 0 0 0 0 0 0 0\n",
            " 0 0 0 0 0 0 0 0 0 0 0 0 0 0 0 0 0 0 0 0 0 0 0 0 0 0 0 0 0 0 0 0 0 0 0 0 0\n",
            " 0 0 0 0 0 0 0 0 0 0 0 0 0 0 0 0 0 0 0 0 0 0 0 0 0 0 0 0 0 0 0 0 0 0 0 0 0\n",
            " 0 0 0 0 0 0 0 0 0 0 0 0 0 0 0 0 0 0 0 0 0 0 0 0 0 0 0 0 0 0 0 0 0 0 0 0 0\n",
            " 0 0 0 0 0 0 0 0 0 0 0 0 0 0 0 0 0 0 0 0 0 0 0 0 0 0 0 0 0 0 0]\n"
          ]
        }
      ]
    },
    {
      "cell_type": "code",
      "source": [
        "from sklearn. preprocessing import StandardScaler\n",
        "sc = StandardScaler()\n",
        "X_train[:,:5] = sc.fit_transform(X_train[:,:5])\n",
        "X_test[:,:5] = sc.transform(X_test[:,:5])"
      ],
      "metadata": {
        "id": "19qy-IfFjifz"
      },
      "execution_count": 53,
      "outputs": []
    },
    {
      "cell_type": "code",
      "source": [
        "print(X_train)"
      ],
      "metadata": {
        "colab": {
          "base_uri": "https://localhost:8080/"
        },
        "id": "k2N2gDyYp7mI",
        "outputId": "17acfc86-fdc3-4cd7-963e-65b83952ed70"
      },
      "execution_count": 54,
      "outputs": [
        {
          "output_type": "stream",
          "name": "stdout",
          "text": [
            "[[-0.021363815131845317 -0.021363815131845227 -0.021363815131845484 ...\n",
            "  20.0 25.0 22.5]\n",
            " [-0.021363815131845317 -0.021363815131845227 -0.021363815131845484 ...\n",
            "  24.0 30.0 27.0]\n",
            " [-0.021363815131845317 -0.021363815131845227 -0.021363815131845484 ...\n",
            "  55.0 65.0 60.0]\n",
            " ...\n",
            " [-0.021363815131845317 -0.021363815131845227 -0.021363815131845484 ...\n",
            "  65.0 75.0 70.0]\n",
            " [-0.021363815131845317 -0.021363815131845227 -0.021363815131845484 ...\n",
            "  40.0 45.0 42.5]\n",
            " [-0.021363815131845317 -0.021363815131845227 -0.021363815131845484 ...\n",
            "  45.0 55.0 50.0]]\n"
          ]
        }
      ]
    },
    {
      "cell_type": "code",
      "source": [
        "print(X_test)"
      ],
      "metadata": {
        "colab": {
          "base_uri": "https://localhost:8080/"
        },
        "id": "SRAKdokpqHIP",
        "outputId": "46598de7-97c5-4060-8995-afd6dd4ae30a"
      },
      "execution_count": 55,
      "outputs": [
        {
          "output_type": "stream",
          "name": "stdout",
          "text": [
            "[[-0.021363815131845317 -0.021363815131845227 -0.021363815131845484 ...\n",
            "  50.0 55.0 52.5]\n",
            " [-0.021363815131845317 -0.021363815131845227 -0.021363815131845484 ...\n",
            "  80.0 85.0 82.5]\n",
            " [-0.021363815131845317 -0.021363815131845227 -0.021363815131845484 ...\n",
            "  35.0 40.0 37.5]\n",
            " ...\n",
            " [-0.021363815131845317 -0.021363815131845227 -0.021363815131845484 ...\n",
            "  52.0 58.0 55.0]\n",
            " [-0.021363815131845317 -0.021363815131845227 -0.021363815131845484 ...\n",
            "  55.0 65.0 60.0]\n",
            " [-0.021363815131845317 -0.021363815131845227 -0.021363815131845484 ...\n",
            "  30.0 35.0 32.5]]\n"
          ]
        }
      ]
    }
  ]
}