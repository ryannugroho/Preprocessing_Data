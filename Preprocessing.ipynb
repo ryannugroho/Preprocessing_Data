{
  "nbformat": 4,
  "nbformat_minor": 0,
  "metadata": {
    "colab": {
      "provenance": [],
      "authorship_tag": "ABX9TyPZmGmVOOPN4KlnMf4pJzVr",
      "include_colab_link": true
    },
    "kernelspec": {
      "name": "python3",
      "display_name": "Python 3"
    },
    "language_info": {
      "name": "python"
    }
  },
  "cells": [
    {
      "cell_type": "markdown",
      "metadata": {
        "id": "view-in-github",
        "colab_type": "text"
      },
      "source": [
        "<a href=\"https://colab.research.google.com/github/ryannugroho/Preprocessing_Data/blob/main/Preprocessing.ipynb\" target=\"_parent\"><img src=\"https://colab.research.google.com/assets/colab-badge.svg\" alt=\"Open In Colab\"/></a>"
      ]
    },
    {
      "cell_type": "code",
      "execution_count": null,
      "metadata": {
        "id": "__Mo3nfkgmfm"
      },
      "outputs": [],
      "source": [
        "import numpy as np\n",
        "import matplotlib.pyplot as plt\n",
        "import pandas as pd"
      ]
    },
    {
      "cell_type": "code",
      "source": [
        "dataset = pd.read_csv('Tomato.csv')\n",
        "x = dataset.iloc[:, :-1].values\n",
        "y = dataset.iloc[:, -1].values"
      ],
      "metadata": {
        "id": "-Ga2ckGDhHFh"
      },
      "execution_count": null,
      "outputs": []
    },
    {
      "cell_type": "code",
      "source": [
        "print(str(x)+\"\\n\")\n",
        "print(y)"
      ],
      "metadata": {
        "colab": {
          "base_uri": "https://localhost:8080/"
        },
        "id": "oTon15JehQ2o",
        "outputId": "e446203d-fbb0-45ea-9f40-3ffde52a38ff"
      },
      "execution_count": null,
      "outputs": [
        {
          "output_type": "stream",
          "name": "stdout",
          "text": [
            "[['2013-06-16' 'Kg' 26 32 29.0]\n",
            " ['2013-06-17' 'Kg' 20 25 22.5]\n",
            " ['2013-06-18' 'Kg' 22 26 24.0]\n",
            " ...\n",
            " ['2021-05-11' 'Kg' 10 15 12.5]\n",
            " ['2021-05-12' 'Kg' 30 35 32.5]\n",
            " ['2021-05-13' 'Kg' 35 40 37.5]]\n",
            "\n",
            "['Tomato' 'Tomato' 'Tomato' ... 'Tomato' 'Tomato' 'Tomato']\n"
          ]
        }
      ]
    },
    {
      "cell_type": "code",
      "source": [
        "from sklearn.impute import SimpleImputer\n",
        "imputer = SimpleImputer (missing_values=np.nan, strategy='mean')\n",
        "imputer.fit(x[:, 2:3])\n",
        "x[:, 2:3] = imputer.transform(x[:, 2:3])"
      ],
      "metadata": {
        "id": "3KQ9RRq2hUw6"
      },
      "execution_count": null,
      "outputs": []
    },
    {
      "cell_type": "code",
      "source": [
        "print(x)"
      ],
      "metadata": {
        "colab": {
          "base_uri": "https://localhost:8080/"
        },
        "id": "kcSIH6o9hdT9",
        "outputId": "e994338f-12d6-4b12-98bb-b6300f3579c0"
      },
      "execution_count": null,
      "outputs": [
        {
          "output_type": "stream",
          "name": "stdout",
          "text": [
            "[['2013-06-16' 'Kg' 26.0 32 29.0]\n",
            " ['2013-06-17' 'Kg' 20.0 25 22.5]\n",
            " ['2013-06-18' 'Kg' 22.0 26 24.0]\n",
            " ...\n",
            " ['2021-05-11' 'Kg' 10.0 15 12.5]\n",
            " ['2021-05-12' 'Kg' 30.0 35 32.5]\n",
            " ['2021-05-13' 'Kg' 35.0 40 37.5]]\n"
          ]
        }
      ]
    },
    {
      "cell_type": "code",
      "source": [
        "from sklearn.compose import ColumnTransformer\n",
        "from sklearn.preprocessing import OneHotEncoder\n",
        "ct = ColumnTransformer (transformers=[ ('encoder' , OneHotEncoder(sparse_output=False), [0])], remainder='passthrough')\n",
        "X = np.array(ct.fit_transform(x))"
      ],
      "metadata": {
        "id": "mAXKo-LxhmZa"
      },
      "execution_count": null,
      "outputs": []
    },
    {
      "cell_type": "code",
      "source": [
        "print(X)"
      ],
      "metadata": {
        "colab": {
          "base_uri": "https://localhost:8080/"
        },
        "id": "ON0VgXASip-s",
        "outputId": "e0a0de1a-14b2-41ca-8ce7-5132ebf5fa8c"
      },
      "execution_count": null,
      "outputs": [
        {
          "output_type": "stream",
          "name": "stdout",
          "text": [
            "[[1.0 0.0 0.0 ... 26.0 32 29.0]\n",
            " [0.0 1.0 0.0 ... 20.0 25 22.5]\n",
            " [0.0 0.0 1.0 ... 22.0 26 24.0]\n",
            " ...\n",
            " [0.0 0.0 0.0 ... 10.0 15 12.5]\n",
            " [0.0 0.0 0.0 ... 30.0 35 32.5]\n",
            " [0.0 0.0 0.0 ... 35.0 40 37.5]]\n"
          ]
        }
      ]
    },
    {
      "cell_type": "code",
      "source": [
        "from sklearn.preprocessing import LabelEncoder\n",
        "le = LabelEncoder()\n",
        "y = le.fit_transform(y)"
      ],
      "metadata": {
        "id": "BNwvQR3Mi0-o"
      },
      "execution_count": null,
      "outputs": []
    },
    {
      "cell_type": "code",
      "source": [
        "print(y)"
      ],
      "metadata": {
        "colab": {
          "base_uri": "https://localhost:8080/"
        },
        "id": "1BmtYblQi4Z6",
        "outputId": "6d0cc22f-7207-4d61-880c-5797426dae6d"
      },
      "execution_count": null,
      "outputs": [
        {
          "output_type": "stream",
          "name": "stdout",
          "text": [
            "[0 0 0 ... 0 0 0]\n"
          ]
        }
      ]
    },
    {
      "cell_type": "code",
      "source": [
        "from sklearn.model_selection import train_test_split\n",
        "X_train, X_test, y_train, y_test = train_test_split(X, y, test_size = 0.2, random_state = 1)"
      ],
      "metadata": {
        "id": "Z3nnVwtHi6De"
      },
      "execution_count": null,
      "outputs": []
    },
    {
      "cell_type": "code",
      "source": [
        "print(X_train)"
      ],
      "metadata": {
        "colab": {
          "base_uri": "https://localhost:8080/"
        },
        "id": "KaLCR3BMi-Dj",
        "outputId": "8c4e1d14-2493-4174-97d7-8db997019371"
      },
      "execution_count": null,
      "outputs": [
        {
          "output_type": "stream",
          "name": "stdout",
          "text": [
            "[[0.0 0.0 0.0 ... 20.0 25 22.5]\n",
            " [0.0 0.0 0.0 ... 24.0 30 27.0]\n",
            " [0.0 0.0 0.0 ... 55.0 65 60.0]\n",
            " ...\n",
            " [0.0 0.0 0.0 ... 65.0 75 70.0]\n",
            " [0.0 0.0 0.0 ... 40.0 45 42.5]\n",
            " [0.0 0.0 0.0 ... 45.0 55 50.0]]\n"
          ]
        }
      ]
    },
    {
      "cell_type": "code",
      "source": [
        "print(X_test)"
      ],
      "metadata": {
        "colab": {
          "base_uri": "https://localhost:8080/"
        },
        "id": "qF9rk_yqjOfS",
        "outputId": "297ec9fe-a239-4452-9912-9b2c70bdaa5e"
      },
      "execution_count": null,
      "outputs": [
        {
          "output_type": "stream",
          "name": "stdout",
          "text": [
            "[[0.0 0.0 0.0 ... 50.0 55 52.5]\n",
            " [0.0 0.0 0.0 ... 80.0 85 82.5]\n",
            " [0.0 0.0 0.0 ... 35.0 40 37.5]\n",
            " ...\n",
            " [0.0 0.0 0.0 ... 52.0 58 55.0]\n",
            " [0.0 0.0 0.0 ... 55.0 65 60.0]\n",
            " [0.0 0.0 0.0 ... 30.0 35 32.5]]\n"
          ]
        }
      ]
    },
    {
      "cell_type": "code",
      "source": [
        "print(y_train)"
      ],
      "metadata": {
        "colab": {
          "base_uri": "https://localhost:8080/"
        },
        "id": "ZLrfJ04cjUUe",
        "outputId": "d7d78206-4b5e-4609-b456-757dbaeff589"
      },
      "execution_count": null,
      "outputs": [
        {
          "output_type": "stream",
          "name": "stdout",
          "text": [
            "[0 0 0 ... 0 0 0]\n"
          ]
        }
      ]
    },
    {
      "cell_type": "code",
      "source": [
        "print(y_test)"
      ],
      "metadata": {
        "colab": {
          "base_uri": "https://localhost:8080/"
        },
        "id": "ZeFFcBtZjaEB",
        "outputId": "5f86ec49-a734-428d-b521-3139926e8499"
      },
      "execution_count": null,
      "outputs": [
        {
          "output_type": "stream",
          "name": "stdout",
          "text": [
            "[0 0 0 0 0 0 0 0 0 0 0 0 0 0 0 0 0 0 0 0 0 0 0 0 0 0 0 0 0 0 0 0 0 0 0 0 0\n",
            " 0 0 0 0 0 0 0 0 0 0 0 0 0 0 0 0 0 0 0 0 0 0 0 0 0 0 0 0 0 0 0 0 0 0 0 0 0\n",
            " 0 0 0 0 0 0 0 0 0 0 0 0 0 0 0 0 0 0 0 0 0 0 0 0 0 0 0 0 0 0 0 0 0 0 0 0 0\n",
            " 0 0 0 0 0 0 0 0 0 0 0 0 0 0 0 0 0 0 0 0 0 0 0 0 0 0 0 0 0 0 0 0 0 0 0 0 0\n",
            " 0 0 0 0 0 0 0 0 0 0 0 0 0 0 0 0 0 0 0 0 0 0 0 0 0 0 0 0 0 0 0 0 0 0 0 0 0\n",
            " 0 0 0 0 0 0 0 0 0 0 0 0 0 0 0 0 0 0 0 0 0 0 0 0 0 0 0 0 0 0 0 0 0 0 0 0 0\n",
            " 0 0 0 0 0 0 0 0 0 0 0 0 0 0 0 0 0 0 0 0 0 0 0 0 0 0 0 0 0 0 0 0 0 0 0 0 0\n",
            " 0 0 0 0 0 0 0 0 0 0 0 0 0 0 0 0 0 0 0 0 0 0 0 0 0 0 0 0 0 0 0 0 0 0 0 0 0\n",
            " 0 0 0 0 0 0 0 0 0 0 0 0 0 0 0 0 0 0 0 0 0 0 0 0 0 0 0 0 0 0 0 0 0 0 0 0 0\n",
            " 0 0 0 0 0 0 0 0 0 0 0 0 0 0 0 0 0 0 0 0 0 0 0 0 0 0 0 0 0 0 0 0 0 0 0 0 0\n",
            " 0 0 0 0 0 0 0 0 0 0 0 0 0 0 0 0 0 0 0 0 0 0 0 0 0 0 0 0 0 0 0 0 0 0 0 0 0\n",
            " 0 0 0 0 0 0 0 0 0 0 0 0 0 0 0 0 0 0 0 0 0 0 0 0 0 0 0 0 0 0 0 0 0 0 0 0 0\n",
            " 0 0 0 0 0 0 0 0 0 0 0 0 0 0 0 0 0 0 0 0 0 0 0 0 0 0 0 0 0 0 0 0 0 0 0 0 0\n",
            " 0 0 0 0 0 0 0 0 0 0 0 0 0 0 0 0 0 0 0 0 0 0 0 0 0 0 0 0 0 0 0 0 0 0 0 0 0\n",
            " 0 0 0 0 0 0 0 0 0 0 0 0 0 0 0 0 0 0 0 0 0 0 0 0 0 0 0 0 0 0 0]\n"
          ]
        }
      ]
    },
    {
      "cell_type": "code",
      "source": [
        "from sklearn. preprocessing import StandardScaler\n",
        "sc = StandardScaler()\n",
        "X_train[:, 1:3] = sc.fit_transform(X_train[:, 1:3])\n",
        "X_test[:, 1:3] = sc.transform(X_test[:, 1:3])"
      ],
      "metadata": {
        "id": "19qy-IfFjifz"
      },
      "execution_count": null,
      "outputs": []
    },
    {
      "cell_type": "code",
      "source": [
        "print(X_train)"
      ],
      "metadata": {
        "colab": {
          "base_uri": "https://localhost:8080/"
        },
        "id": "k2N2gDyYp7mI",
        "outputId": "81ed3468-be24-429b-fc35-acd5faf552ae"
      },
      "execution_count": null,
      "outputs": [
        {
          "output_type": "stream",
          "name": "stdout",
          "text": [
            "[[0.0 -0.021363815131844557 -0.021363815131845428 ... 20.0 25 22.5]\n",
            " [0.0 -0.021363815131844557 -0.021363815131845428 ... 24.0 30 27.0]\n",
            " [0.0 -0.021363815131844557 -0.021363815131845428 ... 55.0 65 60.0]\n",
            " ...\n",
            " [0.0 -0.021363815131844557 -0.021363815131845428 ... 65.0 75 70.0]\n",
            " [0.0 -0.021363815131844557 -0.021363815131845428 ... 40.0 45 42.5]\n",
            " [0.0 -0.021363815131844557 -0.021363815131845428 ... 45.0 55 50.0]]\n"
          ]
        }
      ]
    },
    {
      "cell_type": "code",
      "source": [
        "print(X_test)"
      ],
      "metadata": {
        "colab": {
          "base_uri": "https://localhost:8080/"
        },
        "id": "SRAKdokpqHIP",
        "outputId": "96942c6d-d031-4d9c-9637-a41a2ddf3ba7"
      },
      "execution_count": null,
      "outputs": [
        {
          "output_type": "stream",
          "name": "stdout",
          "text": [
            "[[0.0 -0.021363815131845227 -0.021363815131845654 ... 50.0 55 52.5]\n",
            " [0.0 -0.021363815131845227 -0.021363815131845654 ... 80.0 85 82.5]\n",
            " [0.0 -0.021363815131845227 -0.021363815131845654 ... 35.0 40 37.5]\n",
            " ...\n",
            " [0.0 -0.021363815131845227 -0.021363815131845654 ... 52.0 58 55.0]\n",
            " [0.0 -0.021363815131845227 -0.021363815131845654 ... 55.0 65 60.0]\n",
            " [0.0 -0.021363815131845227 -0.021363815131845654 ... 30.0 35 32.5]]\n"
          ]
        }
      ]
    }
  ]
}